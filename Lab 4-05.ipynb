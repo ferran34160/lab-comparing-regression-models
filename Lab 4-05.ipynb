{
 "cells": [
  {
   "cell_type": "raw",
   "id": "2398fb27",
   "metadata": {},
   "source": [
    "For this lab, we will be using the same dataset we used in the previous labs. We recommend using the same notebook since you will be reusing the same variables you previous created and used in labs."
   ]
  },
  {
   "cell_type": "code",
   "execution_count": 13,
   "id": "c089e243",
   "metadata": {},
   "outputs": [],
   "source": [
    "import pandas as pd\n",
    "import numpy as np\n",
    "import pickle\n",
    "from sklearn import linear_model\n",
    "from sklearn.neighbors import KNeighborsRegressor\n",
    "from sklearn.neural_network import MLPRegressor\n",
    "from sklearn.model_selection import train_test_split\n",
    "\n",
    "data = pd.read_pickle('data.p')"
   ]
  },
  {
   "cell_type": "raw",
   "id": "967d9821",
   "metadata": {},
   "source": [
    "1 / In this final lab, we will model our data. Import sklearn train_test_split and separate the data."
   ]
  },
  {
   "cell_type": "code",
   "execution_count": 14,
   "id": "5ae1bce4",
   "metadata": {},
   "outputs": [],
   "source": [
    "X = data.drop(['total_claim_amount'],axis=1)\n",
    "y = data['total_claim_amount']\n",
    "\n",
    "X_train, X_test, y_train, y_test = train_test_split(X, y, test_size=0.4, random_state=100)"
   ]
  },
  {
   "cell_type": "raw",
   "id": "33aee870",
   "metadata": {},
   "source": [
    "2 / Try a simple linear regression with all the data to see whether we are getting good results."
   ]
  },
  {
   "cell_type": "code",
   "execution_count": 15,
   "id": "084ead3c",
   "metadata": {},
   "outputs": [
    {
     "data": {
      "text/plain": [
       "0.4441552192076277"
      ]
     },
     "execution_count": 15,
     "metadata": {},
     "output_type": "execute_result"
    }
   ],
   "source": [
    "lm = linear_model.LinearRegression()\n",
    "lm.fit(X_train, y_train)\n",
    "lm.score(X_test, y_test)"
   ]
  },
  {
   "cell_type": "raw",
   "id": "e6fded5a",
   "metadata": {},
   "source": [
    "3 / Great! Now define a function that takes a list of models and train (and tests) them so we can try a lot of them without repeating code."
   ]
  },
  {
   "cell_type": "code",
   "execution_count": 25,
   "id": "6e22b3f0",
   "metadata": {},
   "outputs": [
    {
     "name": "stdout",
     "output_type": "stream",
     "text": [
      "Linear Regression score: 0.4441552192076277\n",
      "KNeighborsRegressor score: 0.39355981763403836\n",
      "MLPRegressor score: 0.4834448453269353\n"
     ]
    },
    {
     "name": "stderr",
     "output_type": "stream",
     "text": [
      "C:\\Users\\Ferran\\anaconda3\\lib\\site-packages\\sklearn\\neural_network\\_multilayer_perceptron.py:614: ConvergenceWarning: Stochastic Optimizer: Maximum iterations (200) reached and the optimization hasn't converged yet.\n",
      "  warnings.warn(\n"
     ]
    }
   ],
   "source": [
    "def models (X, y, models):\n",
    "    X_train, X_test, y_train, y_test = train_test_split(X, y, test_size=0.4, random_state=100)\n",
    "    if 'LinearRegressor' in models:\n",
    "        lm = linear_model.LinearRegression()\n",
    "        lm.fit(X_train, y_train)\n",
    "        print('Linear Regression score:', lm.score(X_test, y_test))\n",
    "    if 'KNeighborsRegressor' in models:\n",
    "        KNN = KNeighborsRegressor(n_neighbors=3)\n",
    "        KNN.fit(X_train, y_train)\n",
    "        print('KNeighborsRegressor score:', KNN.score(X_test, y_test))\n",
    "    if 'MLPRegressor' in models:\n",
    "        MLP = MLPRegressor(random_state=1)\n",
    "        MLP.fit(X_train, y_train)\n",
    "        print('MLPRegressor score:', MLP.score(X_test, y_test))\n",
    "        \n",
    "        \n",
    "Models_list = {'LinearRegressor', 'KNeighborsRegressor', 'MLPRegressor'}\n",
    "models(X, y, Models_list)"
   ]
  },
  {
   "cell_type": "code",
   "execution_count": null,
   "id": "9b992bc2",
   "metadata": {},
   "outputs": [],
   "source": []
  }
 ],
 "metadata": {
  "kernelspec": {
   "display_name": "Python 3",
   "language": "python",
   "name": "python3"
  },
  "language_info": {
   "codemirror_mode": {
    "name": "ipython",
    "version": 3
   },
   "file_extension": ".py",
   "mimetype": "text/x-python",
   "name": "python",
   "nbconvert_exporter": "python",
   "pygments_lexer": "ipython3",
   "version": "3.8.8"
  }
 },
 "nbformat": 4,
 "nbformat_minor": 5
}
